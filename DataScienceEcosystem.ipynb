{
 "cells": [
  {
   "cell_type": "markdown",
   "id": "40096f4c",
   "metadata": {},
   "source": [
    "# Data Science Tools and Ecosystem"
   ]
  },
  {
   "cell_type": "markdown",
   "id": "b13a753d",
   "metadata": {},
   "source": [
    "## Introduction\n",
    "This assignment is showing basics of Jupeter Notebook and show how markdown and their fetured should be used. Also how arithmatic operations can be run on python code cell."
   ]
  },
  {
   "cell_type": "markdown",
   "id": "69ce50cc",
   "metadata": {},
   "source": [
    "**Objectives:**\n",
    "\n",
    "* List popular laguages of Data science.\n",
    "* List Libraries used by Data science.\n",
    "* List popular tools used in Data science applications."
   ]
  },
  {
   "cell_type": "markdown",
   "id": "5170848f",
   "metadata": {},
   "source": [
    "## Author\n",
    "Sanjeev Kumar"
   ]
  },
  {
   "cell_type": "markdown",
   "id": "cea03146",
   "metadata": {},
   "source": [
    "## Data Science Languages\n",
    "1. Julia\n",
    "2. Python\n",
    "3. R\n",
    "4. SQL\n",
    "5. Scala"
   ]
  },
  {
   "cell_type": "markdown",
   "id": "f59c0014",
   "metadata": {},
   "source": [
    "## Data Science Libraries\n",
    "\n",
    "- **R:**\n",
    "  - caret\n",
    "  - randomForest\n",
    "  - dplyr\n",
    "  - ggplot2\n",
    "  \n",
    "- **Python:**\n",
    "  - scikit-learn\n",
    "  - Matplotlib\n",
    "  - NumPy\n",
    "  - pandas\n",
    "  - TensorFlow\n",
    "  - PyTorch\n",
    "  \n",
    "- **Julia:**\n",
    "  - Flux\n",
    "  - MLJ\n",
    "  - DataFrames\n",
    "\n",
    "- **SQL:**\n",
    "  - SQLAlchemy\n",
    "  - pandasql"
   ]
  },
  {
   "cell_type": "markdown",
   "id": "c5f03d42",
   "metadata": {},
   "source": [
    "## Data Science Tools\n",
    "\n",
    "| Category          | Tool                | Description                                                  |\n",
    "|-------------------|---------------------|--------------------------------------------------------------|\n",
    "| Programming       | Python              | General-purpose programming language with rich libraries     |\n",
    "|                   | R                   | Statistical computing and graphics                            |\n",
    "|                   | Julia               | High-performance language for technical computing             |\n",
    "|                   | Scala               | Scalable language for data analysis                          |\n",
    "| Data Manipulation | Pandas              | Data structures and data analysis tools for Python            |\n",
    "|                   | dplyr               | Data manipulation tools for R                                |\n",
    "| Visualization     | Matplotlib          | 2D plotting library for Python                               |\n",
    "|                   | ggplot2             | Data visualization package for R                              |\n",
    "| Machine Learning  | scikit-learn        | Machine learning library for Python                           |\n",
    "|                   | caret               | Classification and regression training package for R          |\n",
    "|                   | TensorFlow          | Open-source machine learning framework for Python             |\n",
    "|                   | PyTorch             | Deep learning framework for Python                            |\n",
    "| Database          | SQL                 | Standard language for relational database management systems |\n",
    "|                   | Snowflake           | Cloud-based data warehousing platform                        |\n"
   ]
  },
  {
   "cell_type": "markdown",
   "id": "5730dabe",
   "metadata": {},
   "source": [
    "### Below are a few examples of evaluating arithmetic expressions in Python\n",
    "- **Addition**: `3 + 3 = 6`\n",
    "- **Subtraction**: `5 - 4 = 1`\n",
    "- **Multiplication**: `5 * 3 = 15`\n",
    "- **Division**: `8 / 2 = 4`"
   ]
  },
  {
   "cell_type": "code",
   "execution_count": 9,
   "id": "156df3c8",
   "metadata": {},
   "outputs": [
    {
     "name": "stdout",
     "output_type": "stream",
     "text": [
      "Calculated result: 17\n"
     ]
    }
   ],
   "source": [
    "# This a simple arithmetic expression to mutiply then add integers\n",
    "result_add_multiply = (3*4)+5\n",
    "print(\"Calculated result:\", result_add_multiply)"
   ]
  },
  {
   "cell_type": "code",
   "execution_count": 10,
   "id": "128ade21",
   "metadata": {},
   "outputs": [
    {
     "name": "stdout",
     "output_type": "stream",
     "text": [
      "Hours: 3.3333333333333335\n"
     ]
    }
   ],
   "source": [
    "# This will convert 200 minutes to hours by diving by 60\n",
    "minutes = 200\n",
    "hours = minutes / 60\n",
    "\n",
    "print(\"Hours:\", hours)"
   ]
  },
  {
   "cell_type": "code",
   "execution_count": null,
   "id": "fbba64d9",
   "metadata": {},
   "outputs": [],
   "source": []
  }
 ],
 "metadata": {
  "kernelspec": {
   "display_name": "Python 3 (ipykernel)",
   "language": "python",
   "name": "python3"
  },
  "language_info": {
   "codemirror_mode": {
    "name": "ipython",
    "version": 3
   },
   "file_extension": ".py",
   "mimetype": "text/x-python",
   "name": "python",
   "nbconvert_exporter": "python",
   "pygments_lexer": "ipython3",
   "version": "3.10.9"
  }
 },
 "nbformat": 4,
 "nbformat_minor": 5
}
